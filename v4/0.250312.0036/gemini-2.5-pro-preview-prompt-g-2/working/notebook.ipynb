{
 "cells": [
  {
   "cell_type": "markdown",
   "id": "1b6c5bae",
   "metadata": {},
   "source": [
    "# Exploring Dandiset 001354: Hippocampal neuronal responses to PAGER activation\n",
    "\n",
    "**Disclaimer:** This notebook was AI-generated and has not been fully verified. Please be cautious when interpreting the code or results."
   ]
  },
  {
   "cell_type": "markdown",
   "id": "3cb04a61",
   "metadata": {},
   "source": [
    "## Overview of the Dandiset\n",
    "\n",
    "This notebook explores Dandiset [001354](https://dandiarchive.org/dandiset/001354/0.250312.0036), titled \"Hippocampal neuronal responses to programmable antigen-gated G-protein-coupled engineered receptor activation\".\n",
    "\n",
    "**Description from DANDI Archive:**\n",
    "*This dataset contains single cell electrophysiological recordings of mouse hippocampal CA1 neurons in response to activation of programmable antigen-gated G-protein-coupled engineered receptors. Recorded neurons were transfected with an AAV1/2-hSyn-a-mCherry-PAGER-Gi-P2A-mEGFP and responses were then recorded in response to DCZ (100 nM) or DCZ + soluble mCherry (1 uM) application.*\n",
    "\n",
    "This notebook will cover:\n",
    "* Listing required Python packages.\n",
    "* Connecting to the DANDI archive and loading the Dandiset metadata.\n",
    "* Listing assets within the Dandiset.\n",
    "* Loading a specific NWB (Neurodata Without Borders) file from the Dandiset.\n",
    "* Exploring some basic metadata of the NWB file.\n",
    "* Visualizing a current clamp recording and its corresponding stimulus from the NWB file.\n",
    "* Summarizing findings and suggesting potential future directions."
   ]
  },
  {
   "cell_type": "markdown",
   "id": "f02b8985",
   "metadata": {},
   "source": [
    "## Required Packages\n",
    "\n",
    "To run this notebook, you will need the following Python packages installed:\n",
    "* `dandi` (for interacting with the DANDI Archive)\n",
    "* `pynwb` (for working with NWB files)\n",
    "* `h5py` (a dependency for pynwb, for HDF5 file access)\n",
    "* `remfile` (for streaming remote files)\n",
    "* `matplotlib` (for plotting)\n",
    "* `numpy` (for numerical operations)\n",
    "* `seaborn` (for plot styling)\n",
    "\n",
    "It is assumed that these packages are already installed on your system."
   ]
  },
  {
   "cell_type": "markdown",
   "id": "a8412c1a",
   "metadata": {},
   "source": [
    "## Loading the Dandiset using the DANDI API"
   ]
  },
  {
   "cell_type": "code",
   "execution_count": 1,
   "id": "15b627b2",
   "metadata": {
    "execution": {
     "iopub.execute_input": "2025-05-09T20:09:01.872869Z",
     "iopub.status.busy": "2025-05-09T20:09:01.872722Z",
     "iopub.status.idle": "2025-05-09T20:09:02.466261Z",
     "shell.execute_reply": "2025-05-09T20:09:02.465552Z"
    }
   },
   "outputs": [
    {
     "name": "stdout",
     "output_type": "stream",
     "text": [
      "Dandiset name: Hippocampal neuronal responses to programmable antigen-gated G-protein-coupled engineered receptor activation\n",
      "Dandiset URL: https://dandiarchive.org/dandiset/001354/0.250312.0036\n",
      "Dandiset description: This dataset contains single cell electrophysiological recordings of mouse hippocampal CA1 neurons in response to activation of programmable antigen-gated G-protein-coupled engineered receptors. Recorded neurons were transfected with an AAV1/2-hSyn-a-mCherry-PAGER-Gi-P2A-mEGFP and responses were then recorded in response to DCZ (100 nM) or DCZ + soluble mCherry (1 uM) application.\n",
      "\n",
      "The authors are grateful to the St Jude Children’s Research Hospital Collaborative Research Consortium on GPCRs, the Chan Zuckerberg Biohub–San Francisco, Phil and Penny Knight Initiative for Brain Resilience (KIG-104), Stanford Cancer Institute, Wu Tsai Neurosciences Institute of Stanford University and the NIH (MH135934 to A.Y.T. and I.S., F32CA257159 to N.A.K., NS121106 to I.S.) for funding this work. R.T. was supported by the Life Sciences Research Foundation Fellowship (sponsored by Astellas Pharma) and JSPS Overseas Research Fellowship.\n",
      "\n",
      "First 5 assets:\n",
      "- sub-PK-109/sub-PK-109_ses-20240717T180719_slice-2024-07-17-0009_cell-2024-07-17-0009_icephys.nwb (ID: b2860f39-ba08-4b5f-8e12-c4b51ad6ccba)\n",
      "- sub-PK-109/sub-PK-109_ses-20240717T150830_slice-2024-07-17-0001_cell-2024-07-17-0001_icephys.nwb (ID: 8609ffee-a79e-498c-8dfa-da46cffef135)\n",
      "- sub-PK-109/sub-PK-109_ses-20240717T184616_slice-2024-07-17-0011_cell-2024-07-17-0011_icephys.nwb (ID: c1a42ce7-eca1-481c-9bed-1fc055ba1aef)\n",
      "- sub-PK-109/sub-PK-109_ses-20240717T164239_slice-2024-07-17-0005_cell-2024-07-17-0005_icephys.nwb (ID: a93f7c5b-a804-4165-aec5-c3571f0611f2)\n",
      "- sub-PK-109/sub-PK-109_ses-20240717T155714_slice-2024-07-17-0003_cell-2024-07-17-0003_icephys.nwb (ID: 58c534de-2a38-4a5b-986c-2dc4c3067b97)\n"
     ]
    }
   ],
   "source": [
    "from itertools import islice\n",
    "from dandi.dandiapi import DandiAPIClient\n",
    "\n",
    "# Connect to DANDI archive\n",
    "client = DandiAPIClient()\n",
    "dandiset_id = \"001354\"\n",
    "dandiset_version = \"0.250312.0036\"\n",
    "dandiset = client.get_dandiset(dandiset_id, dandiset_version)\n",
    "\n",
    "# Print basic information about the Dandiset\n",
    "metadata = dandiset.get_raw_metadata()\n",
    "print(f\"Dandiset name: {metadata['name']}\")\n",
    "print(f\"Dandiset URL: {metadata['url']}\")\n",
    "print(f\"Dandiset description: {metadata.get('description', 'N/A')}\")\n",
    "\n",
    "# List some assets in the Dandiset\n",
    "assets = dandiset.get_assets()\n",
    "print(\"\\nFirst 5 assets:\")\n",
    "for asset in islice(assets, 5):\n",
    "    print(f\"- {asset.path} (ID: {asset.identifier})\")"
   ]
  },
  {
   "cell_type": "markdown",
   "id": "5b969594",
   "metadata": {},
   "source": [
    "## Loading an NWB File\n",
    "\n",
    "We will now load one of the NWB files from the Dandiset to explore its contents.\n",
    "\n",
    "The NWB file we will load is: `sub-PK-109/sub-PK-109_ses-20240717T150830_slice-2024-07-17-0001_cell-2024-07-17-0001_icephys.nwb`\n",
    "Its asset ID is `8609ffee-a79e-498c-8dfa-da46cffef135`.\n",
    "\n",
    "The URL for downloading this asset can be constructed using its asset ID:\n",
    "`https://api.dandiarchive.org/api/assets/8609ffee-a79e-498c-8dfa-da46cffef135/download/`\n",
    "\n",
    "You can explore this NWB file interactively on Neurosift using the following link:\n",
    "[View on Neurosift](https://neurosift.app/nwb?url=https://api.dandiarchive.org/api/assets/8609ffee-a79e-498c-8dfa-da46cffef135/download/&dandisetId=001354&dandisetVersion=0.250312.0036)"
   ]
  },
  {
   "cell_type": "code",
   "execution_count": 2,
   "id": "c6c677d4",
   "metadata": {
    "execution": {
     "iopub.execute_input": "2025-05-09T20:09:02.467703Z",
     "iopub.status.busy": "2025-05-09T20:09:02.467544Z",
     "iopub.status.idle": "2025-05-09T20:09:58.712326Z",
     "shell.execute_reply": "2025-05-09T20:09:58.712018Z"
    }
   },
   "outputs": [
    {
     "name": "stdout",
     "output_type": "stream",
     "text": [
      "Loading NWB file from: https://api.dandiarchive.org/api/assets/8609ffee-a79e-498c-8dfa-da46cffef135/download/\n"
     ]
    },
    {
     "name": "stderr",
     "output_type": "stream",
     "text": [
      "/home/magland/miniconda3/envs/dev/lib/python3.12/site-packages/hdmf/spec/namespace.py:535: UserWarning: Ignoring cached namespace 'core' version 2.8.0 because version 2.7.0 is already loaded.\n",
      "  warn(\"Ignoring cached namespace '%s' version %s because version %s is already loaded.\"\n"
     ]
    },
    {
     "name": "stdout",
     "output_type": "stream",
     "text": [
      "\n",
      "NWB file loaded successfully.\n",
      "Identifier: pk2024_07_17_0001\n",
      "Session description: Intracellular electrophysiology experiment.\n",
      "Session start time: 2024-07-17 15:08:30-07:00\n"
     ]
    }
   ],
   "source": [
    "import pynwb\n",
    "import h5py\n",
    "import remfile\n",
    "import numpy as np\n",
    "import matplotlib.pyplot as plt\n",
    "import seaborn as sns\n",
    "\n",
    "sns.set_theme()\n",
    "\n",
    "# URL of the NWB file asset\n",
    "nwb_asset_id = \"8609ffee-a79e-498c-8dfa-da46cffef135\"\n",
    "nwb_file_url = f\"https://api.dandiarchive.org/api/assets/{nwb_asset_id}/download/\"\n",
    "\n",
    "print(f\"Loading NWB file from: {nwb_file_url}\")\n",
    "\n",
    "# Load the NWB file using remfile for streaming\n",
    "remote_file = remfile.File(nwb_file_url)\n",
    "h5_file = h5py.File(remote_file, mode='r')\n",
    "io = pynwb.NWBHDF5IO(file=h5_file, mode='r')\n",
    "nwb = io.read()\n",
    "\n",
    "print(\"\\nNWB file loaded successfully.\")\n",
    "print(f\"Identifier: {nwb.identifier}\")\n",
    "print(f\"Session description: {nwb.session_description}\")\n",
    "print(f\"Session start time: {nwb.session_start_time}\")"
   ]
  },
  {
   "cell_type": "markdown",
   "id": "5fd28fee",
   "metadata": {
    "lines_to_next_cell": 0
   },
   "source": [
    "## Exploring NWB File Metadata and Structure\n",
    "\n",
    "The loaded `nwb` object contains various pieces of metadata and experimental data. Let's list some of the available groups.\n",
    "The `nwb-file-info` tool provided extensive information on the file structure. Key groups include:\n",
    "* `nwb.acquisition`: Contains acquired data, such as current clamp responses.\n",
    "* `nwb.stimulus`: Contains stimulus data applied during experiments.\n",
    "* `nwb.icephys_electrodes`: Information about the intracellular electrodes used.\n",
    "* `nwb.subject`: Information about the experimental subject.\n",
    "* `nwb.icephys_simultaneous_recordings` and `nwb.icephys_sequential_recordings`: Tables organizing the recordings.\n",
    "\n",
    "We can list the names of time series available in the acquisition group:"
   ]
  },
  {
   "cell_type": "code",
   "execution_count": 3,
   "id": "496b6730",
   "metadata": {
    "execution": {
     "iopub.execute_input": "2025-05-09T20:09:58.714192Z",
     "iopub.status.busy": "2025-05-09T20:09:58.713948Z",
     "iopub.status.idle": "2025-05-09T20:09:58.716862Z",
     "shell.execute_reply": "2025-05-09T20:09:58.716629Z"
    }
   },
   "outputs": [
    {
     "name": "stdout",
     "output_type": "stream",
     "text": [
      "First 10 TimeSeries in nwb.acquisition (if available):\n",
      "- current_clamp-response-01-ch-0\n",
      "- current_clamp-response-01-ch-1\n",
      "- current_clamp-response-02-ch-0\n",
      "- current_clamp-response-02-ch-1\n",
      "- current_clamp-response-03-ch-0\n",
      "- current_clamp-response-03-ch-1\n",
      "- current_clamp-response-04-ch-0\n",
      "- current_clamp-response-04-ch-1\n",
      "- current_clamp-response-05-ch-0\n",
      "- current_clamp-response-05-ch-1\n",
      "... and more.\n",
      "\n",
      "First 10 TimeSeries in nwb.stimulus (if available):\n",
      "- stimulus-01-ch-0\n",
      "- stimulus-01-ch-1\n",
      "- stimulus-02-ch-0\n",
      "- stimulus-02-ch-1\n",
      "- stimulus-03-ch-0\n",
      "- stimulus-03-ch-1\n",
      "- stimulus-04-ch-0\n",
      "- stimulus-04-ch-1\n",
      "- stimulus-05-ch-0\n",
      "- stimulus-05-ch-1\n",
      "... and more.\n"
     ]
    }
   ],
   "source": [
    "print(\"First 10 TimeSeries in nwb.acquisition (if available):\")\n",
    "for i, series_name in enumerate(nwb.acquisition):\n",
    "    if i >= 10:\n",
    "        break\n",
    "    print(f\"- {series_name}\")\n",
    "if len(nwb.acquisition) > 10:\n",
    "    print(\"... and more.\")\n",
    "\n",
    "print(\"\\nFirst 10 TimeSeries in nwb.stimulus (if available):\")\n",
    "for i, series_name in enumerate(nwb.stimulus):\n",
    "    if i >= 10:\n",
    "        break\n",
    "    print(f\"- {series_name}\")\n",
    "if len(nwb.stimulus) > 10:\n",
    "    print(\"... and more.\")"
   ]
  },
  {
   "cell_type": "markdown",
   "id": "79cb4dbd",
   "metadata": {},
   "source": [
    "## Visualizing Electrophysiology Data\n",
    "\n",
    "Let's visualize one of the current clamp responses and its corresponding stimulus. We will use `current_clamp-response-01-ch-0` from `nwb.acquisition` and `stimulus-01-ch-0` from `nwb.stimulus`.\n",
    "The output of `tools_cli.py nwb-file-info` shows that these series contain data recorded at 20,000 Hz. We'll plot a short segment (e.g., 0.2 seconds) to see the details."
   ]
  },
  {
   "cell_type": "code",
   "execution_count": 4,
   "id": "100491e6",
   "metadata": {
    "execution": {
     "iopub.execute_input": "2025-05-09T20:09:58.718158Z",
     "iopub.status.busy": "2025-05-09T20:09:58.718068Z",
     "iopub.status.idle": "2025-05-09T20:09:58.882083Z",
     "shell.execute_reply": "2025-05-09T20:09:58.881570Z"
    }
   },
   "outputs": [
    {
     "name": "stdout",
     "output_type": "stream",
     "text": [
      "Selected response series: current_clamp-response-01-ch-0, Description: Response to: ramp\n",
      "Selected stimulus series: stimulus-01-ch-0, Description: Stim type: ramp\n"
     ]
    },
    {
     "data": {
      "image/png": "[encoded data removed]",
      "text/plain": [
       "<Figure size 1200x600 with 2 Axes>"
      ]
     },
     "metadata": {},
     "output_type": "display_data"
    }
   ],
   "source": [
    "# Select the specific response and stimulus series\n",
    "response_series_name = \"current_clamp-response-01-ch-0\"\n",
    "stimulus_series_name = \"stimulus-01-ch-0\"\n",
    "\n",
    "response_series = nwb.acquisition[response_series_name]\n",
    "stimulus_series = nwb.stimulus[stimulus_series_name]\n",
    "\n",
    "print(f\"Selected response series: {response_series_name}, Description: {response_series.description}\")\n",
    "print(f\"Selected stimulus series: {stimulus_series_name}, Description: {stimulus_series.description}\")\n",
    "\n",
    "# Get full data for the selected series\n",
    "response_data_full = response_series.data[:]\n",
    "stimulus_data_full = stimulus_series.data[:]\n",
    "sampling_rate_hz = response_series.rate\n",
    "\n",
    "# Create timestamps for the full series\n",
    "# Timestamps should start from the series' starting_time\n",
    "response_timestamps_full = np.arange(len(response_data_full)) / sampling_rate_hz + response_series.starting_time\n",
    "stimulus_timestamps_full = np.arange(len(stimulus_data_full)) / sampling_rate_hz + stimulus_series.starting_time\n",
    "\n",
    "\n",
    "# Create plot\n",
    "fig, axes = plt.subplots(2, 1, sharex=True, figsize=(12, 6))\n",
    "\n",
    "# Plot response\n",
    "axes[0].plot(response_timestamps_full, response_data_full)\n",
    "axes[0].set_title(f\"Response: {response_series.name} (Full Sweep)\")\n",
    "axes[0].set_ylabel(f\"Voltage ({response_series.unit})\")\n",
    "\n",
    "# Plot stimulus\n",
    "axes[1].plot(stimulus_timestamps_full, stimulus_data_full)\n",
    "axes[1].set_title(f\"Stimulus: {stimulus_series.name} (Full Sweep)\")\n",
    "axes[1].set_xlabel(\"Time (s)\")\n",
    "axes[1].set_ylabel(f\"Current ({stimulus_series.unit})\")\n",
    "\n",
    "plt.tight_layout()\n",
    "plt.show()"
   ]
  },
  {
   "cell_type": "markdown",
   "id": "e16d3cac",
   "metadata": {},
   "source": [
    "The plot above shows the full voltage response of the neuron (top panel) to a current stimulus (bottom panel) for the selected sweep.\n",
    "In this particular sweep, a negative current pulse results in a hyperpolarization of the cell membrane, characteristic of a passive response."
   ]
  },
  {
   "cell_type": "markdown",
   "id": "405e75e0",
   "metadata": {
    "lines_to_next_cell": 0
   },
   "source": [
    "## Subject Information\n",
    "Let's display some information about the experimental subject."
   ]
  },
  {
   "cell_type": "code",
   "execution_count": 5,
   "id": "255bb784",
   "metadata": {
    "execution": {
     "iopub.execute_input": "2025-05-09T20:09:58.883779Z",
     "iopub.status.busy": "2025-05-09T20:09:58.883612Z",
     "iopub.status.idle": "2025-05-09T20:09:58.887458Z",
     "shell.execute_reply": "2025-05-09T20:09:58.887081Z"
    }
   },
   "outputs": [
    {
     "name": "stdout",
     "output_type": "stream",
     "text": [
      "Subject ID: PK-109\n",
      "Age: Not specified or N/A (age__reference: birth)\n",
      "Sex: F\n",
      "Species: Mus musculus\n",
      "Date of Birth: 2024-04-07\n"
     ]
    }
   ],
   "source": [
    "if nwb.subject:\n",
    "    print(f\"Subject ID: {nwb.subject.subject_id}\")\n",
    "    if hasattr(nwb.subject, 'age') and nwb.subject.age:\n",
    "         print(f\"Age: {nwb.subject.age}\")\n",
    "    else:\n",
    "        print(f\"Age: Not specified or N/A (age__reference: {getattr(nwb.subject, 'age__reference', 'N/A')})\") # age may not be directly available\n",
    "    print(f\"Sex: {nwb.subject.sex}\")\n",
    "    print(f\"Species: {nwb.subject.species}\")\n",
    "    if nwb.subject.date_of_birth:\n",
    "        print(f\"Date of Birth: {nwb.subject.date_of_birth.strftime('%Y-%m-%d')}\")\n",
    "else:\n",
    "    print(\"No subject information available.\")"
   ]
  },
  {
   "cell_type": "markdown",
   "id": "37f330c4",
   "metadata": {
    "lines_to_next_cell": 0
   },
   "source": [
    "## Electrode Information\n",
    "Information about the recording electrodes can also be useful."
   ]
  },
  {
   "cell_type": "code",
   "execution_count": 6,
   "id": "eb4819ce",
   "metadata": {
    "execution": {
     "iopub.execute_input": "2025-05-09T20:09:58.889292Z",
     "iopub.status.busy": "2025-05-09T20:09:58.889137Z",
     "iopub.status.idle": "2025-05-09T20:09:58.892961Z",
     "shell.execute_reply": "2025-05-09T20:09:58.892317Z"
    }
   },
   "outputs": [
    {
     "name": "stdout",
     "output_type": "stream",
     "text": [
      "Icephys Electrodes:\n",
      "- Name: electrode-0\n",
      "  Description: no description\n",
      "  Device: DeviceIcephys, Description: no description\n"
     ]
    }
   ],
   "source": [
    "print(\"Icephys Electrodes:\")\n",
    "if nwb.icephys_electrodes:\n",
    "    for electrode_name, electrode in nwb.icephys_electrodes.items():\n",
    "        print(f\"- Name: {electrode_name}\")\n",
    "        print(f\"  Description: {electrode.description}\")\n",
    "        if electrode.device:\n",
    "            print(f\"  Device: {electrode.device.name}, Description: {electrode.device.description}\")\n",
    "        # Limiting to the first electrode for brevity in output, but showing structure\n",
    "        break \n",
    "else:\n",
    "    print(\"No icephys electrode information available.\")"
   ]
  },
  {
   "cell_type": "markdown",
   "id": "bad2e861",
   "metadata": {},
   "source": [
    "## Summary and Future Directions\n",
    "\n",
    "This notebook demonstrated how to:\n",
    "* Connect to the DANDI Archive and retrieve information about a Dandiset.\n",
    "* Load a specific NWB file containing intracellular electrophysiology data.\n",
    "* Access basic metadata and identify data series within the NWB file.\n",
    "* Visualize a current clamp recording alongside its corresponding stimulus.\n",
    "\n",
    "**Future Directions:**\n",
    "* **Explore other sweeps:** The NWB file contains numerous sweeps (e.g., `current_clamp-response-02-ch-0`, `stimulus-02-ch-0`, etc.). Analyzing these could reveal responses to different stimulus patterns or intensities, potentially including action potentials.\n",
    "* **Analyze stimulus-response properties:** For sweeps that elicit action potentials, one could analyze spike timing, firing rates, or input-output curves. For subthreshold responses, passive membrane properties like input resistance or time constant could be estimated.\n",
    "* **Compare responses across conditions:** The Dandiset description mentions experiments with DCZ and DCZ + soluble mCherry. Comparing neuronal responses under these different conditions is a key goal of the original study. This would involve loading and analyzing NWB files corresponding to these different experimental manipulations.\n",
    "* **Integrate with other metadata:** The NWB file also contains information about the subject (e.g., age, sex, species) and experimental setup (e.g., electrode information). This metadata can provide important context for interpreting the electrophysiological findings.\n",
    "* **Utilize `icephys_sequential_recordings` and `icephys_simultaneous_recordings` tables:** These tables provide a structured way to access and iterate through related sets of recordings, which can be useful for systematic analysis of experimental protocols."
   ]
  },
  {
   "cell_type": "markdown",
   "id": "15e060af",
   "metadata": {
    "lines_to_next_cell": 0
   },
   "source": [
    "Remember to close the HDF5 file object if you are done with it, although in a notebook context it's often left open until the kernel is shut down."
   ]
  },
  {
   "cell_type": "code",
   "execution_count": 7,
   "id": "736fe217",
   "metadata": {
    "execution": {
     "iopub.execute_input": "2025-05-09T20:09:58.894492Z",
     "iopub.status.busy": "2025-05-09T20:09:58.894317Z",
     "iopub.status.idle": "2025-05-09T20:09:58.897486Z",
     "shell.execute_reply": "2025-05-09T20:09:58.896852Z"
    }
   },
   "outputs": [
    {
     "name": "stdout",
     "output_type": "stream",
     "text": [
      "Exploration complete. You can close the NWB file using io.close() if needed.\n"
     ]
    }
   ],
   "source": [
    "# It's good practice to close the file when done,\n",
    "# though in interactive sessions, this might be deferred.\n",
    "# io.close() # This was already in the exploration script, ensure it's here if standalone cell needed\n",
    "print(\"Exploration complete. You can close the NWB file using io.close() if needed.\")"
   ]
  }
 ],
 "metadata": {
  "jupytext": {
   "cell_metadata_filter": "-all",
   "main_language": "python",
   "notebook_metadata_filter": "-all"
  },
  "language_info": {
   "codemirror_mode": {
    "name": "ipython",
    "version": 3
   },
   "file_extension": ".py",
   "mimetype": "text/x-python",
   "name": "python",
   "nbconvert_exporter": "python",
   "pygments_lexer": "ipython3",
   "version": "3.12.2"
  }
 },
 "nbformat": 4,
 "nbformat_minor": 5
}
